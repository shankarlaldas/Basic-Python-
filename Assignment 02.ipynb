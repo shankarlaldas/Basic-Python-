{
 "cells": [
  {
   "cell_type": "markdown",
   "id": "624fdc09-8bd2-4f94-8c93-9cdbfd934926",
   "metadata": {},
   "source": [
    "Variables"
   ]
  },
  {
   "cell_type": "code",
   "execution_count": 1,
   "id": "f4ded45d-a6eb-4589-b22b-430cec12b54e",
   "metadata": {},
   "outputs": [
    {
     "name": "stdout",
     "output_type": "stream",
     "text": [
      "swaps value of variable_a =  9\n",
      "swaps value of variable_b =  5\n"
     ]
    }
   ],
   "source": [
    "variable_a = 5\n",
    "variable_b = 9\n",
    "variable_a,variable_b = variable_b,variable_a\n",
    "print(\"swaps value of variable_a = \",variable_a)\n",
    "print(\"swaps value of variable_b = \",variable_b)"
   ]
  },
  {
   "cell_type": "code",
   "execution_count": 2,
   "id": "f2652834-21c5-4874-a357-0f53d2392998",
   "metadata": {},
   "outputs": [
    {
     "name": "stdin",
     "output_type": "stream",
     "text": [
      "Rectangle length :  8\n",
      "Rectangle width :  5\n"
     ]
    },
    {
     "name": "stdout",
     "output_type": "stream",
     "text": [
      "The Rectangle area is : 40.0\n"
     ]
    }
   ],
   "source": [
    "length=float(input(\"Rectangle length : \"))\n",
    "width=float(input(\"Rectangle width : \"))\n",
    "def the_area_of(length,width):\n",
    "    return length*width\n",
    "print(f\"The Rectangle area is : {the_area_of(length,width)}\")"
   ]
  },
  {
   "cell_type": "code",
   "execution_count": 3,
   "id": "e84c985a-ace5-4310-bc72-6216ba58f709",
   "metadata": {},
   "outputs": [
    {
     "name": "stdin",
     "output_type": "stream",
     "text": [
      "Farenheit temparature = 5\n"
     ]
    },
    {
     "name": "stdout",
     "output_type": "stream",
     "text": [
      "The (from Farenheit to converted) Celsius temperature is = -15.0 degree Celsius\n"
     ]
    }
   ],
   "source": [
    "fahren_tem = float(input(\"Farenheit temparature =\"))\n",
    "def celsius_tem(fahren_tem):\n",
    "    return 5/9*( fahren_tem - 32)\n",
    "print(f\"The (from Farenheit to converted) Celsius temperature is = {celsius_tem(fahren_tem)} degree Celsius\")"
   ]
  },
  {
   "cell_type": "code",
   "execution_count": 4,
   "id": "d6e13be2-09c3-4f87-a919-2c862a9b5a82",
   "metadata": {},
   "outputs": [
    {
     "name": "stdin",
     "output_type": "stream",
     "text": [
      "Enter the radius of the sphere:  5\n"
     ]
    },
    {
     "name": "stdout",
     "output_type": "stream",
     "text": [
      "The volume of the sphere is  523.5988\n"
     ]
    }
   ],
   "source": [
    "radius = float(input(\"Enter the radius of the sphere: \"))\n",
    "volume = (4/3) * 3.141592653589793 * radius**3 #  formula: volume = (4/3) * π * r³\n",
    "print(f\"The volume of the sphere is  {volume:.4f}\")"
   ]
  },
  {
   "cell_type": "code",
   "execution_count": 5,
   "id": "6d8329ed-d76a-4cf2-b9ec-a42864fc781c",
   "metadata": {},
   "outputs": [
    {
     "name": "stdin",
     "output_type": "stream",
     "text": [
      "Number1=  5\n",
      "Number_2=  5\n",
      "Number_3=  2\n"
     ]
    },
    {
     "name": "stdout",
     "output_type": "stream",
     "text": [
      "The average of three number is = 4.0\n"
     ]
    }
   ],
   "source": [
    "num_1= float(input(\"Number1= \"))\n",
    "num_2= float(input(\"Number_2= \"))\n",
    "num_3= float(input(\"Number_3= \"))\n",
    "def average(num_1,num_2,num_3):\n",
    "    return (num_1+num_2+num_3)/3\n",
    "print(f\"The average of three number is = {average(num_1,num_2,num_3)}\")"
   ]
  },
  {
   "cell_type": "code",
   "execution_count": null,
   "id": "b667c5f5-0e33-46be-a25f-89071b5c93c2",
   "metadata": {},
   "outputs": [],
   "source": []
  },
  {
   "cell_type": "code",
   "execution_count": null,
   "id": "135626f9-3dd2-452f-a45d-345689a7a449",
   "metadata": {},
   "outputs": [],
   "source": []
  },
  {
   "cell_type": "code",
   "execution_count": null,
   "id": "45fcb78c-eec6-4411-a52d-82d730fa4a1f",
   "metadata": {},
   "outputs": [],
   "source": []
  },
  {
   "cell_type": "markdown",
   "id": "36bc9d68-854d-47f1-9041-4cdbbe7bd585",
   "metadata": {},
   "source": [
    "If-elif-else"
   ]
  },
  {
   "cell_type": "code",
   "execution_count": 6,
   "id": "027a4fa3-e8f5-40f0-90fc-d88c47bc68b7",
   "metadata": {},
   "outputs": [
    {
     "name": "stdin",
     "output_type": "stream",
     "text": [
      "Enter the number =  5\n"
     ]
    },
    {
     "name": "stdout",
     "output_type": "stream",
     "text": [
      "Odd number\n"
     ]
    }
   ],
   "source": [
    "number = int(input(\"Enter the number = \"))\n",
    "if number%2 == 0:\n",
    "    print(\"Even number\")\n",
    "else:\n",
    "    print(\"Odd number\")"
   ]
  },
  {
   "cell_type": "code",
   "execution_count": 7,
   "id": "8cc121c5-2623-4e9a-8eca-367abdb30d65",
   "metadata": {},
   "outputs": [
    {
     "name": "stdin",
     "output_type": "stream",
     "text": [
      "Number1=  5\n",
      "Number_2=  5\n",
      "Number_3=  1\n"
     ]
    },
    {
     "name": "stdout",
     "output_type": "stream",
     "text": [
      "The largest number is 5.0\n"
     ]
    }
   ],
   "source": [
    "num1= float(input(\"Number1= \"))\n",
    "num2= float(input(\"Number_2= \"))\n",
    "num3= float(input(\"Number_3= \"))\n",
    "if (num1 >= num2) and (num1 >= num3):\n",
    "    print(\"The largest number is\", num1)\n",
    "elif (num2 >= num1) and (num2 >= num3):\n",
    "    print(\"The largest number is\", num2)\n",
    "else:\n",
    "    print(\"The largest number is\", num3)"
   ]
  },
  {
   "cell_type": "code",
   "execution_count": 8,
   "id": "36d58d8e-739c-4b6d-82ba-fc09d3345920",
   "metadata": {},
   "outputs": [
    {
     "name": "stdin",
     "output_type": "stream",
     "text": [
      "Enter the year =  3\n"
     ]
    },
    {
     "name": "stdout",
     "output_type": "stream",
     "text": [
      "3 is not a leap year\n"
     ]
    }
   ],
   "source": [
    "year = int(input(\"Enter the year = \")) \n",
    "if (year % 400 == 0) and (year % 100 == 0):\n",
    "    print(f\"{year} is a leap year\")\n",
    "elif (year % 4 == 0) and (year % 100 != 0):\n",
    "    print(f\"{year} is a leap year\")\n",
    "else:\n",
    "    print(f\"{year} is not a leap year\")"
   ]
  },
  {
   "cell_type": "code",
   "execution_count": 9,
   "id": "d0443e3f-f49c-4efd-a8a3-0c928a9f1e87",
   "metadata": {},
   "outputs": [
    {
     "name": "stdin",
     "output_type": "stream",
     "text": [
      "Enter a number:  5\n"
     ]
    },
    {
     "name": "stdout",
     "output_type": "stream",
     "text": [
      "Positive number\n"
     ]
    }
   ],
   "source": [
    "num = float(input(\"Enter a number: \"))\n",
    "if num > 0:\n",
    "    print(\"Positive number\")\n",
    "elif num == 0:\n",
    "    print(\"Zero\")\n",
    "else:\n",
    "    print(\"Negative number\")"
   ]
  },
  {
   "cell_type": "code",
   "execution_count": 10,
   "id": "4ef86289-c6e4-4b66-9954-ac267e6057fa",
   "metadata": {},
   "outputs": [
    {
     "name": "stdin",
     "output_type": "stream",
     "text": [
      "Enter the percentage:  55\n"
     ]
    },
    {
     "name": "stdout",
     "output_type": "stream",
     "text": [
      "The grade is: C\n"
     ]
    }
   ],
   "source": [
    "percentage = float(input(\"Enter the percentage: \"))\n",
    "if percentage >= 80:\n",
    "    grade = \"A+\"\n",
    "elif percentage >= 70:\n",
    "    grade = \"A\"\n",
    "elif percentage >= 60:\n",
    "    grade = \"B\"\n",
    "elif percentage >= 50:\n",
    "    grade = \"C\"\n",
    "elif percentage >= 40:\n",
    "    grade = \"D\"\n",
    "elif percentage >= 33:\n",
    "    grade = \"E\"\n",
    "else:\n",
    "    grade = \"Fali\"\n",
    "print(f\"The grade is: {grade}\")"
   ]
  },
  {
   "cell_type": "code",
   "execution_count": null,
   "id": "b1240a23-110f-478a-84e5-b883582217aa",
   "metadata": {},
   "outputs": [],
   "source": []
  },
  {
   "cell_type": "code",
   "execution_count": null,
   "id": "3bb89be9-28c5-402b-b087-ac4de6ad0866",
   "metadata": {},
   "outputs": [],
   "source": []
  },
  {
   "cell_type": "code",
   "execution_count": null,
   "id": "2e20c61b-75a1-4df8-9341-1b42b5806cd6",
   "metadata": {},
   "outputs": [],
   "source": []
  },
  {
   "cell_type": "markdown",
   "id": "4f7825cf-5125-4f49-ad36-dda96f226d59",
   "metadata": {},
   "source": [
    "For Loop"
   ]
  },
  {
   "cell_type": "code",
   "execution_count": 11,
   "id": "99c0b176-320d-4c6f-87a8-3dbdf81dfbc6",
   "metadata": {},
   "outputs": [
    {
     "name": "stdin",
     "output_type": "stream",
     "text": [
      "Enter any number:  2\n"
     ]
    },
    {
     "name": "stdout",
     "output_type": "stream",
     "text": [
      "The list of natural numbers from 1 to 2\n",
      "1  2  \n"
     ]
    }
   ],
   "source": [
    "n = int(input(\"Enter any number: \"))\n",
    "print(\"The list of natural numbers from 1 to\", n)\n",
    "for i in range(1, n+1 , 1):\n",
    "    print(i, end='  ')\n",
    "print()"
   ]
  },
  {
   "cell_type": "code",
   "execution_count": 12,
   "id": "a7188c44-0962-47ec-82f8-e5930b8a416d",
   "metadata": {},
   "outputs": [
    {
     "name": "stdin",
     "output_type": "stream",
     "text": [
      "Enter the number 25\n"
     ]
    },
    {
     "name": "stdout",
     "output_type": "stream",
     "text": [
      "The factorial of number[25] is = 15511210043330985984000000\n"
     ]
    }
   ],
   "source": [
    "num = int(input(\"Enter the number\"))\n",
    "factorial = 1\n",
    "if num < 0:\n",
    "    print(\"Sorry, factorial does not exist for negative numbers\")\n",
    "elif num == 0:\n",
    "    print(\"The factorial of 0 is 1\")\n",
    "else:\n",
    "    for i in range(1, num + 1):\n",
    "        factorial *= i\n",
    "\n",
    "print(f\"The factorial of number[{num}] is = {factorial}\")"
   ]
  },
  {
   "cell_type": "code",
   "execution_count": 13,
   "id": "2fdde6d6-d907-4c1c-b7f1-4341227e6d60",
   "metadata": {},
   "outputs": [
    {
     "name": "stdin",
     "output_type": "stream",
     "text": [
      "Enter the length of the Fibonacci sequence:  21\n"
     ]
    },
    {
     "name": "stdout",
     "output_type": "stream",
     "text": [
      "Fibonacci sequence:\n",
      "0 1 1 2 3 5 8 13 21 34 55 89 144 233 377 610 987 1597 2584 4181 6765 \n"
     ]
    }
   ],
   "source": [
    "n = int(input(\"Enter the length of the Fibonacci sequence: \"))\n",
    "a, b = 0, 1\n",
    "print(\"Fibonacci sequence:\")\n",
    "print(a, b, end=\" \")\n",
    "count = 2\n",
    "while count < n:\n",
    "    next_term = a + b\n",
    "    print(next_term, end=\" \")\n",
    "    a, b = b, next_term\n",
    "    count += 1\n",
    "print() "
   ]
  },
  {
   "cell_type": "code",
   "execution_count": 14,
   "id": "0a9962b8-9176-4f0d-a8b4-f39bbfb94aeb",
   "metadata": {},
   "outputs": [
    {
     "name": "stdin",
     "output_type": "stream",
     "text": [
      "Enter your number =  25\n"
     ]
    },
    {
     "name": "stdout",
     "output_type": "stream",
     "text": [
      "25 is not a prime number\n"
     ]
    }
   ],
   "source": [
    "num = int(input(\"Enter your number = \"))\n",
    "if num > 1:\n",
    "    for i in range(2, (num // 2) + 1):\n",
    "       if (num % i) == 0:\n",
    "            print(num, \"is not a prime number\")\n",
    "            break\n",
    "    else:\n",
    "        print(num, \"is a prime number\")\n",
    "else:\n",
    "    print(num, \"is not a prime number\")"
   ]
  },
  {
   "cell_type": "code",
   "execution_count": 15,
   "id": "719265d5-099c-44ee-932b-9544a8594587",
   "metadata": {},
   "outputs": [
    {
     "name": "stdin",
     "output_type": "stream",
     "text": [
      "Enter a number:  35\n"
     ]
    },
    {
     "name": "stdout",
     "output_type": "stream",
     "text": [
      "Multiplication table:\n",
      "35 x 1 = 35\n",
      "35 x 2 = 70\n",
      "35 x 3 = 105\n",
      "35 x 4 = 140\n",
      "35 x 5 = 175\n",
      "35 x 6 = 210\n",
      "35 x 7 = 245\n",
      "35 x 8 = 280\n",
      "35 x 9 = 315\n",
      "35 x 10 = 350\n"
     ]
    }
   ],
   "source": [
    "num = int(input(\"Enter a number: \"))\n",
    "print(\"Multiplication table:\")\n",
    "for i in range(1, 11, 1):\n",
    "    print(f\"{num} x {i} = {num * i}\")"
   ]
  },
  {
   "cell_type": "code",
   "execution_count": null,
   "id": "10c805a6-b6ab-41ed-aa83-e80259a277c2",
   "metadata": {},
   "outputs": [],
   "source": []
  },
  {
   "cell_type": "code",
   "execution_count": null,
   "id": "e5d8a705-0461-4931-9450-6346233bdce8",
   "metadata": {},
   "outputs": [],
   "source": []
  },
  {
   "cell_type": "markdown",
   "id": "b1f2528f-a37a-4253-9bb2-fb20a5cf96ba",
   "metadata": {},
   "source": [
    "While Loop"
   ]
  },
  {
   "cell_type": "code",
   "execution_count": 16,
   "id": "54d23d9c-2f37-4095-9f04-2074df06a426",
   "metadata": {},
   "outputs": [
    {
     "name": "stdin",
     "output_type": "stream",
     "text": [
      "Enter a positive integer (n) =  5\n"
     ]
    },
    {
     "name": "stdout",
     "output_type": "stream",
     "text": [
      "The sum of even numbers from 1 to 5 is = 6\n"
     ]
    }
   ],
   "source": [
    "n = int(input(\"Enter a positive integer (n) = \"))\n",
    "total = 0\n",
    "number = 2\n",
    "while number <= n:\n",
    "    total += number\n",
    "    number += 2\n",
    "print(f\"The sum of even numbers from 1 to {n} is = {total}\")"
   ]
  },
  {
   "cell_type": "code",
   "execution_count": 18,
   "id": "30e5cfd5-fd40-472c-a1bb-168410866983",
   "metadata": {},
   "outputs": [
    {
     "name": "stdin",
     "output_type": "stream",
     "text": [
      "Enter a number:  54\n"
     ]
    },
    {
     "name": "stdout",
     "output_type": "stream",
     "text": [
      "Reversed Number: 45\n"
     ]
    }
   ],
   "source": [
    "num = int(input(\"Enter a number: \"))\n",
    "reversed_num = 0\n",
    "while num != 0:\n",
    "    digit = num % 10\n",
    "    reversed_num = reversed_num * 10 + digit\n",
    "    num //= 10\n",
    "print(\"Reversed Number:\", reversed_num)"
   ]
  },
  {
   "cell_type": "code",
   "execution_count": null,
   "id": "79d0f151-7487-4810-903e-70b35e50bbc8",
   "metadata": {},
   "outputs": [],
   "source": [
    "def isPalindrome(s):\n",
    "    s = s.lower().replace(' ', '')\n",
    "    first, last = 0, len(s) - 1\n",
    "    while first < last:\n",
    "        if s[first] != s[last]:\n",
    "            return False\n",
    "        first += 1\n",
    "        last -= 1\n",
    "        return True\n",
    "input_string = input(\"Input your string\")\n",
    "result = isPalindrome(input_string)\n",
    "if result:\n",
    "    print(\"Yes, it is a palindrome.\")\n",
    "else:\n",
    "    print(\"No, it is not a palindrome.\")"
   ]
  },
  {
   "cell_type": "code",
   "execution_count": null,
   "id": "58b1ce80-fb73-428f-b66b-e8547ae010fc",
   "metadata": {},
   "outputs": [],
   "source": [
    "import random\n",
    "computer_number = random.randrange(1, 101)\n",
    "guessed = False\n",
    "while True:\n",
    "    if not guessed:\n",
    "        answer = input(\"Guess the number: \")\n",
    "        if int(answer) == computer_number:\n",
    "            guessed = True\n",
    "            print(\"You got it!\")\n",
    "            break\n",
    "        elif int(answer) > computer_number:\n",
    "            print(\"Your guess is too high.\")\n",
    "        else:\n",
    "            print(\"Your guess is too low.\")\n",
    "    else:\n",
    "        break"
   ]
  },
  {
   "cell_type": "code",
   "execution_count": null,
   "id": "d4c3a7f5-e3c4-4d29-9009-780864b5ee23",
   "metadata": {},
   "outputs": [],
   "source": [
    "def gcd(a, b):\n",
    "    while b:\n",
    "        a, b = b, a % b\n",
    "    return a\n",
    "num1 = float(input(\"Enter the first number: \"))\n",
    "num2 = float(input(\"Enter the second number: \"))\n",
    "result = gcd(num1, num2)\n",
    "print(f\"The GCD of {num1} and {num2} is: {result}\")"
   ]
  },
  {
   "cell_type": "code",
   "execution_count": null,
   "id": "016b4624-871a-4f02-9387-5e2f2bc6405c",
   "metadata": {},
   "outputs": [],
   "source": []
  }
 ],
 "metadata": {
  "kernelspec": {
   "display_name": "Python 3 (ipykernel)",
   "language": "python",
   "name": "python3"
  },
  "language_info": {
   "codemirror_mode": {
    "name": "ipython",
    "version": 3
   },
   "file_extension": ".py",
   "mimetype": "text/x-python",
   "name": "python",
   "nbconvert_exporter": "python",
   "pygments_lexer": "ipython3",
   "version": "3.12.4"
  }
 },
 "nbformat": 4,
 "nbformat_minor": 5
}
